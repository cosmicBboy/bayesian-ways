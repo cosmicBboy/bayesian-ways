{
 "cells": [
  {
   "cell_type": "code",
   "execution_count": 71,
   "metadata": {
    "collapsed": false
   },
   "outputs": [],
   "source": [
    "import src.thinkbayes as tb\n",
    "import src.cookie2 as c\n",
    "import src.monty as m\n",
    "import src.m_and_m as mnm"
   ]
  },
  {
   "cell_type": "markdown",
   "metadata": {},
   "source": [
    "## Probability Mass Function\n",
    "\n",
    "Maps values to their associated probabilities"
   ]
  },
  {
   "cell_type": "code",
   "execution_count": 42,
   "metadata": {
    "collapsed": false
   },
   "outputs": [
    {
     "name": "stdout",
     "output_type": "stream",
     "text": [
      "1 0.166666666667\n",
      "2 0.166666666667\n",
      "3 0.166666666667\n",
      "4 0.166666666667\n",
      "5 0.166666666667\n",
      "6 0.166666666667\n"
     ]
    }
   ],
   "source": [
    "# this creates a virtual six-sided die\n",
    "die_pmf = tb.Pmf()\n",
    "for x in [1, 2, 3, 4, 5, 6]:\n",
    "    die_pmf.Set(x, 1/6.0)\n",
    "    \n",
    "die_pmf.Print()"
   ]
  },
  {
   "cell_type": "code",
   "execution_count": 43,
   "metadata": {
    "collapsed": false
   },
   "outputs": [
    {
     "name": "stdout",
     "output_type": "stream",
     "text": [
      "Words\n",
      "cat 1\n",
      "mat 1\n",
      "on 1\n",
      "sat 1\n",
      "the 2\n",
      "None\n",
      "\n",
      "Total number of words\n",
      "6\n",
      "\n",
      "Probability of word 'the'\n",
      "0.333333333333\n"
     ]
    }
   ],
   "source": [
    "# create a word distribution\n",
    "word_list = [\"the\", \"cat\", \"sat\", \"on\", \"the\", \"mat\"]\n",
    "word_pmf = tb.Pmf()\n",
    "for word in word_list:\n",
    "    word_pmf.Incr(word, 1)\n",
    "\n",
    "print(\"Words\")\n",
    "print word_pmf.Print()\n",
    "\n",
    "# normalize to get total number of words\n",
    "print(\"\\nTotal number of words\")\n",
    "print word_pmf.Normalize()\n",
    "\n",
    "# print probability of any given word in the distribution\n",
    "print(\"\\nProbability of word 'the'\")\n",
    "print word_pmf.Prob(\"the\")"
   ]
  },
  {
   "cell_type": "markdown",
   "metadata": {},
   "source": [
    "## The Cookie Problem\n",
    "\n",
    "- Bowl 1 contains 30 vanilla cookies, 10 chocolate cookies\n",
    "- Bowl 2 contains 20 each\n",
    "- You randomly choose a bowl to pick a cookie in that bowl (also at random). The cookie is vanilla. What's the probability that you picked from Bowl 1?"
   ]
  },
  {
   "cell_type": "code",
   "execution_count": 72,
   "metadata": {
    "collapsed": false
   },
   "outputs": [
    {
     "name": "stdout",
     "output_type": "stream",
     "text": [
      "0.6\n",
      "0.4\n"
     ]
    }
   ],
   "source": [
    "cookie_pmf = tb.Pmf()\n",
    "# initialize prior probabilities\n",
    "cookie_pmf.Set(\"Bowl 1\", 0.5)\n",
    "cookie_pmf.Set(\"Bowl 2\", 0.5)\n",
    "\n",
    "# multiply the priors with the likelihoods\n",
    "cookie_pmf.Mult(\"Bowl 1\", 0.75)\n",
    "cookie_pmf.Mult(\"Bowl 2\", 0.5)\n",
    "\n",
    "# renormalize\n",
    "cookie_pmf.Normalize()\n",
    "\n",
    "print cookie_pmf.Prob(\"Bowl 1\")\n",
    "print cookie_pmf.Prob(\"Bowl 2\")"
   ]
  },
  {
   "cell_type": "markdown",
   "metadata": {},
   "source": [
    "# The Bayesian Framework"
   ]
  },
  {
   "cell_type": "markdown",
   "metadata": {},
   "source": [
    "## Cookie Problem (revisited)"
   ]
  },
  {
   "cell_type": "code",
   "execution_count": 77,
   "metadata": {
    "collapsed": false
   },
   "outputs": [
    {
     "name": "stdout",
     "output_type": "stream",
     "text": [
      "Data: vanilla\n",
      "Bowl 2 0.4\n",
      "Bowl 1 0.6\n",
      "\n",
      "Data: chocolate\n",
      "Bowl 2 0.571428571429\n",
      "Bowl 1 0.428571428571\n",
      "\n",
      "Data: vanilla\n",
      "Bowl 2 0.470588235294\n",
      "Bowl 1 0.529411764706\n",
      "\n"
     ]
    }
   ],
   "source": [
    "hypos = [\"Bowl 1\", \"Bowl 2\"]\n",
    "cookie_pmf = c.Cookie(hypos)\n",
    "# a dataset of cookie draws from same bowl\n",
    "dataset = [\"vanilla\", \"chocolate\", \"vanilla\"]\n",
    "for d in dataset:\n",
    "    print \"Data: {}\".format(d)\n",
    "    cookie_pmf.Update(d)\n",
    "    for hypo, prob in cookie_pmf.Items():\n",
    "        print hypo, prob\n",
    "    print \"\""
   ]
  },
  {
   "cell_type": "markdown",
   "metadata": {},
   "source": [
    "## Monty Hall Problem"
   ]
  },
  {
   "cell_type": "code",
   "execution_count": 57,
   "metadata": {
    "collapsed": false
   },
   "outputs": [
    {
     "name": "stdout",
     "output_type": "stream",
     "text": [
      "A 0.333333333333\n",
      "C 0.666666666667\n",
      "B 0.0\n"
     ]
    }
   ],
   "source": [
    "hypos = \"ABC\"\n",
    "monty_pmf = m.Monty(hypos)\n",
    "data = \"B\"\n",
    "monty_pmf.Update(data)\n",
    "for hypo, prob in monty_pmf.Items():\n",
    "    print hypo, prob"
   ]
  },
  {
   "cell_type": "markdown",
   "metadata": {},
   "source": [
    "### Using the generalized Suite class"
   ]
  },
  {
   "cell_type": "code",
   "execution_count": 60,
   "metadata": {
    "collapsed": false
   },
   "outputs": [
    {
     "name": "stdout",
     "output_type": "stream",
     "text": [
      "A 0.333333333333\n",
      "B 0.0\n",
      "C 0.666666666667\n"
     ]
    }
   ],
   "source": [
    "# all this class needs is a Likelihood function\n",
    "# to be able to compute the posterior probabilities\n",
    "class Monty(tb.Suite):\n",
    "    \n",
    "    def Likelihood(self, data, hypo):\n",
    "        if hypo == data:\n",
    "            return 0\n",
    "        elif hypo == \"A\":\n",
    "            return 0.5\n",
    "        else:\n",
    "            return 1\n",
    "\n",
    "monty_suite = Monty(\"ABC\")\n",
    "monty_suite.Update(\"B\")\n",
    "monty_suite.Print()"
   ]
  },
  {
   "cell_type": "markdown",
   "metadata": {},
   "source": [
    "## The M&M problem"
   ]
  },
  {
   "cell_type": "code",
   "execution_count": 69,
   "metadata": {
    "collapsed": false
   },
   "outputs": [
    {
     "name": "stdout",
     "output_type": "stream",
     "text": [
      "A 0.740740740741\n",
      "B 0.259259259259\n"
     ]
    }
   ],
   "source": [
    "# The M_and_M class implements the hypotheses\n",
    "# s.t. hypothesis A: bag1 = mix94, bag2 = mix96\n",
    "#      hypothesis B: bag1 = mix96, bag2 = mix94\n",
    "m_and_m_suite = mnm.M_and_M(\"AB\")\n",
    "# pick a yellow m&m from bag1, and\n",
    "# green one from bag2\n",
    "m_and_m_suite.Update((\"bag1\", \"yellow\"))\n",
    "m_and_m_suite.Update((\"bag2\", \"green\"))\n",
    "m_and_m_suite.Print()"
   ]
  },
  {
   "cell_type": "markdown",
   "metadata": {},
   "source": [
    "# Exercises\n",
    "\n",
    "Example 2-1\n",
    "\n",
    "Reimplement the cookie problem such that we sample from the bowls without replacement.\n",
    "\n",
    "You can find the implementation in `src/cookie2.py`. The solution implements a new `Bowl` class that is initialized with the number of vanilla and chocolate cookies in the bowl.\n",
    "\n",
    "A `Bowl` has a `mix` property which normalizes the number of vanilla and chocolate cookies into a proportion for use in the `Cookie.Update` method.\n",
    "\n",
    "It also has a `decrement` method for when a cookie is taken from the bowl without replacement.\n",
    "\n",
    "This object is used by `Cookie` in when `Update` is called with a new data point. A bowl is randomly chosen and a cookie of the type `data = {vanilla, chocolate}` is removed from the bowl."
   ]
  }
 ],
 "metadata": {
  "kernelspec": {
   "display_name": "Python 2",
   "language": "python",
   "name": "python2"
  },
  "language_info": {
   "codemirror_mode": {
    "name": "ipython",
    "version": 2
   },
   "file_extension": ".py",
   "mimetype": "text/x-python",
   "name": "python",
   "nbconvert_exporter": "python",
   "pygments_lexer": "ipython2",
   "version": "2.7.11"
  }
 },
 "nbformat": 4,
 "nbformat_minor": 2
}
